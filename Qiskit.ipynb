{
  "nbformat": 4,
  "nbformat_minor": 0,
  "metadata": {
    "colab": {
      "provenance": [],
      "include_colab_link": true
    },
    "kernelspec": {
      "name": "python3",
      "display_name": "Python 3"
    },
    "language_info": {
      "name": "python"
    }
  },
  "cells": [
    {
      "cell_type": "markdown",
      "metadata": {
        "id": "view-in-github",
        "colab_type": "text"
      },
      "source": [
        "<a href=\"https://colab.research.google.com/github/SaiSrujanReddyP/QKD/blob/main/Qiskit.ipynb\" target=\"_parent\"><img src=\"https://colab.research.google.com/assets/colab-badge.svg\" alt=\"Open In Colab\"/></a>"
      ]
    },
    {
      "cell_type": "code",
      "execution_count": null,
      "metadata": {
        "colab": {
          "base_uri": "https://localhost:8080/"
        },
        "id": "h3AhsOFuFjDd",
        "outputId": "fe44400a-8df1-4162-cc45-d76e26887697"
      },
      "outputs": [
        {
          "output_type": "stream",
          "name": "stdout",
          "text": [
            "Collecting qiskit\n",
            "  Downloading qiskit-1.2.4-cp38-abi3-manylinux_2_17_x86_64.manylinux2014_x86_64.whl.metadata (12 kB)\n",
            "Collecting rustworkx>=0.15.0 (from qiskit)\n",
            "  Downloading rustworkx-0.15.1-cp38-abi3-manylinux_2_17_x86_64.manylinux2014_x86_64.whl.metadata (9.9 kB)\n",
            "Requirement already satisfied: numpy<3,>=1.17 in /usr/local/lib/python3.10/dist-packages (from qiskit) (1.26.4)\n",
            "Requirement already satisfied: scipy>=1.5 in /usr/local/lib/python3.10/dist-packages (from qiskit) (1.13.1)\n",
            "Requirement already satisfied: sympy>=1.3 in /usr/local/lib/python3.10/dist-packages (from qiskit) (1.13.1)\n",
            "Collecting dill>=0.3 (from qiskit)\n",
            "  Downloading dill-0.3.9-py3-none-any.whl.metadata (10 kB)\n",
            "Requirement already satisfied: python-dateutil>=2.8.0 in /usr/local/lib/python3.10/dist-packages (from qiskit) (2.8.2)\n",
            "Collecting stevedore>=3.0.0 (from qiskit)\n",
            "  Downloading stevedore-5.4.0-py3-none-any.whl.metadata (2.3 kB)\n",
            "Requirement already satisfied: typing-extensions in /usr/local/lib/python3.10/dist-packages (from qiskit) (4.12.2)\n",
            "Collecting symengine<0.14,>=0.11 (from qiskit)\n",
            "  Downloading symengine-0.13.0-cp310-cp310-manylinux_2_17_x86_64.manylinux2014_x86_64.whl.metadata (1.2 kB)\n",
            "Requirement already satisfied: six>=1.5 in /usr/local/lib/python3.10/dist-packages (from python-dateutil>=2.8.0->qiskit) (1.16.0)\n",
            "Collecting pbr>=2.0.0 (from stevedore>=3.0.0->qiskit)\n",
            "  Downloading pbr-6.1.0-py2.py3-none-any.whl.metadata (3.4 kB)\n",
            "Requirement already satisfied: mpmath<1.4,>=1.1.0 in /usr/local/lib/python3.10/dist-packages (from sympy>=1.3->qiskit) (1.3.0)\n",
            "Downloading qiskit-1.2.4-cp38-abi3-manylinux_2_17_x86_64.manylinux2014_x86_64.whl (4.8 MB)\n",
            "\u001b[2K   \u001b[90m━━━━━━━━━━━━━━━━━━━━━━━━━━━━━━━━━━━━━━━━\u001b[0m \u001b[32m4.8/4.8 MB\u001b[0m \u001b[31m30.4 MB/s\u001b[0m eta \u001b[36m0:00:00\u001b[0m\n",
            "\u001b[?25hDownloading dill-0.3.9-py3-none-any.whl (119 kB)\n",
            "\u001b[2K   \u001b[90m━━━━━━━━━━━━━━━━━━━━━━━━━━━━━━━━━━━━━━━━\u001b[0m \u001b[32m119.4/119.4 kB\u001b[0m \u001b[31m4.3 MB/s\u001b[0m eta \u001b[36m0:00:00\u001b[0m\n",
            "\u001b[?25hDownloading rustworkx-0.15.1-cp38-abi3-manylinux_2_17_x86_64.manylinux2014_x86_64.whl (2.0 MB)\n",
            "\u001b[2K   \u001b[90m━━━━━━━━━━━━━━━━━━━━━━━━━━━━━━━━━━━━━━━━\u001b[0m \u001b[32m2.0/2.0 MB\u001b[0m \u001b[31m16.7 MB/s\u001b[0m eta \u001b[36m0:00:00\u001b[0m\n",
            "\u001b[?25hDownloading stevedore-5.4.0-py3-none-any.whl (49 kB)\n",
            "\u001b[2K   \u001b[90m━━━━━━━━━━━━━━━━━━━━━━━━━━━━━━━━━━━━━━━━\u001b[0m \u001b[32m49.5/49.5 kB\u001b[0m \u001b[31m1.8 MB/s\u001b[0m eta \u001b[36m0:00:00\u001b[0m\n",
            "\u001b[?25hDownloading symengine-0.13.0-cp310-cp310-manylinux_2_17_x86_64.manylinux2014_x86_64.whl (49.7 MB)\n",
            "\u001b[2K   \u001b[90m━━━━━━━━━━━━━━━━━━━━━━━━━━━━━━━━━━━━━━━━\u001b[0m \u001b[32m49.7/49.7 MB\u001b[0m \u001b[31m10.8 MB/s\u001b[0m eta \u001b[36m0:00:00\u001b[0m\n",
            "\u001b[?25hDownloading pbr-6.1.0-py2.py3-none-any.whl (108 kB)\n",
            "\u001b[2K   \u001b[90m━━━━━━━━━━━━━━━━━━━━━━━━━━━━━━━━━━━━━━━━\u001b[0m \u001b[32m108.5/108.5 kB\u001b[0m \u001b[31m5.3 MB/s\u001b[0m eta \u001b[36m0:00:00\u001b[0m\n",
            "\u001b[?25hInstalling collected packages: symengine, rustworkx, pbr, dill, stevedore, qiskit\n",
            "Successfully installed dill-0.3.9 pbr-6.1.0 qiskit-1.2.4 rustworkx-0.15.1 stevedore-5.4.0 symengine-0.13.0\n"
          ]
        }
      ],
      "source": [
        "!pip install qiskit"
      ]
    },
    {
      "cell_type": "code",
      "source": [
        "!pip install qiskit-aer --upgrade"
      ],
      "metadata": {
        "id": "7sxwv24_SmtN",
        "colab": {
          "base_uri": "https://localhost:8080/"
        },
        "outputId": "9570e129-bd20-4209-91e2-aa265807a473"
      },
      "execution_count": null,
      "outputs": [
        {
          "output_type": "stream",
          "name": "stdout",
          "text": [
            "Collecting qiskit-aer\n",
            "  Downloading qiskit_aer-0.15.1-cp310-cp310-manylinux_2_17_x86_64.manylinux2014_x86_64.whl.metadata (8.0 kB)\n",
            "Requirement already satisfied: qiskit>=1.1.0 in /usr/local/lib/python3.10/dist-packages (from qiskit-aer) (1.2.4)\n",
            "Requirement already satisfied: numpy>=1.16.3 in /usr/local/lib/python3.10/dist-packages (from qiskit-aer) (1.26.4)\n",
            "Requirement already satisfied: scipy>=1.0 in /usr/local/lib/python3.10/dist-packages (from qiskit-aer) (1.13.1)\n",
            "Requirement already satisfied: psutil>=5 in /usr/local/lib/python3.10/dist-packages (from qiskit-aer) (5.9.5)\n",
            "Requirement already satisfied: rustworkx>=0.15.0 in /usr/local/lib/python3.10/dist-packages (from qiskit>=1.1.0->qiskit-aer) (0.15.1)\n",
            "Requirement already satisfied: sympy>=1.3 in /usr/local/lib/python3.10/dist-packages (from qiskit>=1.1.0->qiskit-aer) (1.13.1)\n",
            "Requirement already satisfied: dill>=0.3 in /usr/local/lib/python3.10/dist-packages (from qiskit>=1.1.0->qiskit-aer) (0.3.9)\n",
            "Requirement already satisfied: python-dateutil>=2.8.0 in /usr/local/lib/python3.10/dist-packages (from qiskit>=1.1.0->qiskit-aer) (2.8.2)\n",
            "Requirement already satisfied: stevedore>=3.0.0 in /usr/local/lib/python3.10/dist-packages (from qiskit>=1.1.0->qiskit-aer) (5.4.0)\n",
            "Requirement already satisfied: typing-extensions in /usr/local/lib/python3.10/dist-packages (from qiskit>=1.1.0->qiskit-aer) (4.12.2)\n",
            "Requirement already satisfied: symengine<0.14,>=0.11 in /usr/local/lib/python3.10/dist-packages (from qiskit>=1.1.0->qiskit-aer) (0.13.0)\n",
            "Requirement already satisfied: six>=1.5 in /usr/local/lib/python3.10/dist-packages (from python-dateutil>=2.8.0->qiskit>=1.1.0->qiskit-aer) (1.16.0)\n",
            "Requirement already satisfied: pbr>=2.0.0 in /usr/local/lib/python3.10/dist-packages (from stevedore>=3.0.0->qiskit>=1.1.0->qiskit-aer) (6.1.0)\n",
            "Requirement already satisfied: mpmath<1.4,>=1.1.0 in /usr/local/lib/python3.10/dist-packages (from sympy>=1.3->qiskit>=1.1.0->qiskit-aer) (1.3.0)\n",
            "Downloading qiskit_aer-0.15.1-cp310-cp310-manylinux_2_17_x86_64.manylinux2014_x86_64.whl (12.3 MB)\n",
            "\u001b[2K   \u001b[90m━━━━━━━━━━━━━━━━━━━━━━━━━━━━━━━━━━━━━━━━\u001b[0m \u001b[32m12.3/12.3 MB\u001b[0m \u001b[31m48.5 MB/s\u001b[0m eta \u001b[36m0:00:00\u001b[0m\n",
            "\u001b[?25hInstalling collected packages: qiskit-aer\n",
            "Successfully installed qiskit-aer-0.15.1\n"
          ]
        }
      ]
    },
    {
      "cell_type": "code",
      "source": [
        "pip install pycryptodome\n"
      ],
      "metadata": {
        "colab": {
          "base_uri": "https://localhost:8080/"
        },
        "id": "10I9qClDJNd7",
        "outputId": "0437b28c-88d8-4631-fb61-c2ce5e9d3319"
      },
      "execution_count": null,
      "outputs": [
        {
          "output_type": "stream",
          "name": "stdout",
          "text": [
            "Collecting pycryptodome\n",
            "  Downloading pycryptodome-3.21.0-cp36-abi3-manylinux_2_17_x86_64.manylinux2014_x86_64.whl.metadata (3.4 kB)\n",
            "Downloading pycryptodome-3.21.0-cp36-abi3-manylinux_2_17_x86_64.manylinux2014_x86_64.whl (2.3 MB)\n",
            "\u001b[2K   \u001b[90m━━━━━━━━━━━━━━━━━━━━━━━━━━━━━━━━━━━━━━━━\u001b[0m \u001b[32m2.3/2.3 MB\u001b[0m \u001b[31m14.1 MB/s\u001b[0m eta \u001b[36m0:00:00\u001b[0m\n",
            "\u001b[?25hInstalling collected packages: pycryptodome\n",
            "Successfully installed pycryptodome-3.21.0\n"
          ]
        }
      ]
    },
    {
      "cell_type": "code",
      "source": [
        "# Import necessary libraries\n",
        "import numpy as np\n",
        "from qiskit import QuantumCircuit, transpile\n",
        "from qiskit_aer import AerSimulator\n",
        "from cryptography.hazmat.backends import default_backend\n",
        "from cryptography.hazmat.primitives import hashes\n",
        "\n",
        "# Function to generate random bitstrings\n",
        "def random_bitstring(length):\n",
        "    \"\"\"Generate a random bitstring of the given length.\"\"\"\n",
        "    return np.random.choice(['0', '1'], size=length)\n",
        "\n",
        "# BB84 Protocol for Quantum Key Distribution\n",
        "def bb84_protocol(length=8):\n",
        "    \"\"\"Simulate the BB84 protocol to generate a shared secure key.\"\"\"\n",
        "    alice_bits = random_bitstring(length)\n",
        "    alice_bases = random_bitstring(length)\n",
        "    bob_bases = random_bitstring(length)\n",
        "    key = []\n",
        "    simulator = AerSimulator()\n",
        "\n",
        "    for i in range(length):\n",
        "        # Create quantum circuit for Alice\n",
        "        qc = QuantumCircuit(1, 1)\n",
        "        if alice_bases[i] == '0':  # Z-basis\n",
        "            if alice_bits[i] == '1':\n",
        "                qc.x(0)  # Prepare |1>\n",
        "        else:  # X-basis\n",
        "            if alice_bits[i] == '0':\n",
        "                qc.h(0)  # Prepare |+>\n",
        "            else:\n",
        "                qc.x(0)\n",
        "                qc.h(0)  # Prepare |->\n",
        "\n",
        "        # Bob measures\n",
        "        if bob_bases[i] == '1':  # Bob uses X-basis\n",
        "            qc.h(0)\n",
        "        qc.measure(0, 0)\n",
        "\n",
        "        # Simulate quantum circuit\n",
        "        compiled_circuit = transpile(qc, simulator)\n",
        "        result = simulator.run(compiled_circuit).result()\n",
        "        measured_bit = list(result.get_counts().keys())[0]\n",
        "\n",
        "        # Retain bits where Alice and Bob used the same basis\n",
        "        if alice_bases[i] == bob_bases[i]:\n",
        "            key.append(measured_bit)\n",
        "\n",
        "    return ''.join(key)\n",
        "\n",
        "# Encryption using generated key\n",
        "def encrypt_data(data, key):\n",
        "    \"\"\"\n",
        "    Encrypt data using a key (hashing for demonstration).\n",
        "    In practice, symmetric encryption (e.g., AES) can be used.\n",
        "    \"\"\"\n",
        "    digest = hashes.Hash(hashes.SHA256(), backend=default_backend())\n",
        "    digest.update((data + key).encode('utf-8'))\n",
        "    return digest.finalize().hex()\n",
        "\n",
        "# Main simulation: Quantum cryptography for smart grids\n",
        "def quantum_cryptography_smart_grid():\n",
        "    # Define communication length\n",
        "    key_length = 64  # Length of the QKD key\n",
        "\n",
        "    # Step 1: Key Distribution using BB84\n",
        "    print(\"Starting Quantum Key Distribution...\")\n",
        "    qkd_key = bb84_protocol(length=key_length)\n",
        "    print(f\"Generated QKD Key: {qkd_key}\")\n",
        "\n",
        "    # Step 2: Encrypt data\n",
        "    sample_data = \"hello gayatri\"\n",
        "    encrypted_data = encrypt_data(sample_data, qkd_key)\n",
        "    print(f\"Original Data: {sample_data}\")\n",
        "    print(f\"Encrypted Data: {encrypted_data}\")\n",
        "\n",
        "    # Simulate transmission and decryption (for demonstration)\n",
        "    print(\"\\nData securely transmitted over the network!\")\n",
        "\n",
        "# Run the simulation\n",
        "quantum_cryptography_smart_grid()\n"
      ],
      "metadata": {
        "colab": {
          "base_uri": "https://localhost:8080/"
        },
        "id": "fD3y-fwtFn3k",
        "outputId": "206df69b-3ccc-4706-9f93-e8484b16f200"
      },
      "execution_count": null,
      "outputs": [
        {
          "output_type": "stream",
          "name": "stdout",
          "text": [
            "Starting Quantum Key Distribution...\n",
            "Generated QKD Key: 0000100110101010001110101010101\n",
            "Original Data: hello gayatri\n",
            "Encrypted Data: 677f96809f3c9185e21482bd01305175778786b87f5e092d26d09bf9d30e2d54\n",
            "\n",
            "Data securely transmitted over the network!\n"
          ]
        }
      ]
    },
    {
      "cell_type": "code",
      "source": [
        "# Import necessary libraries\n",
        "from cryptography.hazmat.primitives import hashes\n",
        "from cryptography.hazmat.backends import default_backend\n",
        "\n",
        "# Function for encryption\n",
        "def encrypt_data(data, key):\n",
        "    \"\"\"\n",
        "    Encrypt data using a key (hashing for demonstration).\n",
        "    In practice, symmetric encryption (e.g., AES) can be used.\n",
        "    \"\"\"\n",
        "    digest = hashes.Hash(hashes.SHA256(), backend=default_backend())\n",
        "    digest.update((data + key).encode('utf-8'))\n",
        "    return digest.finalize().hex()\n",
        "\n",
        "# Function for decryption\n",
        "def decrypt_data(encrypted_data, data, key):\n",
        "    \"\"\"\n",
        "    Decrypt data by verifying the hashed content.\n",
        "    In practice, symmetric decryption (e.g., AES) would be used.\n",
        "    \"\"\"\n",
        "    digest = hashes.Hash(hashes.SHA256(), backend=default_backend())\n",
        "    digest.update((data + key).encode('utf-8'))\n",
        "    return digest.finalize().hex() == encrypted_data\n",
        "\n",
        "# Example data and key\n",
        "sample_data = \"hello gayatri\"\n",
        "qkd_key = \"0000100110101010001110101010101\"  # Example quantum key for demonstration\n",
        "\n",
        "# Encrypt the data\n",
        "encrypted_data = encrypt_data(sample_data, qkd_key)\n",
        "print(f\"Encrypted Data: {encrypted_data}\")\n",
        "\n",
        "# Decrypt and verify the data\n",
        "is_verified = decrypt_data(encrypted_data, sample_data, qkd_key)\n",
        "print(f\"Decryption Verified: {'Success' if is_verified else 'Failure'}\")\n"
      ],
      "metadata": {
        "colab": {
          "base_uri": "https://localhost:8080/"
        },
        "id": "mZy1CxQpGidO",
        "outputId": "8f90250c-be27-4b41-c47f-69421c45074d"
      },
      "execution_count": null,
      "outputs": [
        {
          "output_type": "stream",
          "name": "stdout",
          "text": [
            "Encrypted Data: 677f96809f3c9185e21482bd01305175778786b87f5e092d26d09bf9d30e2d54\n",
            "Decryption Verified: Success\n"
          ]
        }
      ]
    },
    {
      "cell_type": "code",
      "source": [
        "class SmartGridNode:\n",
        "    def __init__(self, node_id, shared_key):\n",
        "        self.node_id = node_id\n",
        "        self.shared_key = shared_key\n",
        "\n",
        "    def send_message(self, message, recipient):\n",
        "        encrypted_message = encrypt_data(message, self.shared_key)\n",
        "        print(f\"Node {self.node_id} -> Node {recipient.node_id}: {encrypted_message}\")\n",
        "        recipient.receive_message(encrypted_message, message)\n",
        "\n",
        "    def receive_message(self, encrypted_message, original_message):\n",
        "        is_verified = decrypt_data(encrypted_message, original_message, self.shared_key)\n",
        "        print(f\"Node {self.node_id} received data: {'Verified' if is_verified else 'Tampered'}\")\n",
        "\n",
        "# Example\n",
        "node_a = SmartGridNode(\"A\", qkd_key)\n",
        "node_b = SmartGridNode(\"B\", qkd_key)\n",
        "node_a.send_message(\"Energy load balanced at 70%\", node_b)\n"
      ],
      "metadata": {
        "colab": {
          "base_uri": "https://localhost:8080/"
        },
        "id": "GrBEkpZYGoWo",
        "outputId": "01d606b8-5127-4deb-e35d-c568403561f4"
      },
      "execution_count": null,
      "outputs": [
        {
          "output_type": "stream",
          "name": "stdout",
          "text": [
            "Node A -> Node B: 9e424e8b740958bca38fd9b73a1ecff6efc738061fd4b4915daab02986ff86fa\n",
            "Node B received data: Verified\n"
          ]
        }
      ]
    },
    {
      "cell_type": "code",
      "source": [
        "def rotate_key(current_key):\n",
        "    \"\"\"Simulate key rotation with a new random key.\"\"\"\n",
        "    new_key = bb84_protocol(length=len(current_key))\n",
        "    print(f\"Old Key: {current_key}\")\n",
        "    print(f\"New Key: {new_key}\")\n",
        "    return new_key\n",
        "\n",
        "qkd_key = rotate_key(qkd_key)\n"
      ],
      "metadata": {
        "colab": {
          "base_uri": "https://localhost:8080/"
        },
        "id": "lmtiUAJpJKPQ",
        "outputId": "6d0cd023-79f9-4d33-f9d5-f14eff155bab"
      },
      "execution_count": null,
      "outputs": [
        {
          "output_type": "stream",
          "name": "stdout",
          "text": [
            "Old Key: 0000100110101010001110101010101\n",
            "New Key: 01010011100\n"
          ]
        }
      ]
    },
    {
      "cell_type": "code",
      "source": [
        "# Install pycryptodome if not already installed\n",
        "try:\n",
        "    from Crypto.Cipher import AES\n",
        "    from Crypto.Util.Padding import pad, unpad\n",
        "except ImportError:\n",
        "    import sys\n",
        "    !{sys.executable} -m pip install pycryptodome\n",
        "    from Crypto.Cipher import AES\n",
        "    from Crypto.Util.Padding import pad, unpad\n",
        "\n",
        "import base64\n",
        "\n",
        "def aes_encrypt(data, key):\n",
        "    cipher = AES.new(key.encode('utf-8')[:16], AES.MODE_CBC)\n",
        "    iv = cipher.iv\n",
        "    ciphertext = cipher.encrypt(pad(data.encode('utf-8'), AES.block_size))\n",
        "    return base64.b64encode(iv + ciphertext).decode('utf-8')\n",
        "\n",
        "def aes_decrypt(encrypted_data, key):\n",
        "    raw_data = base64.b64decode(encrypted_data)\n",
        "    iv = raw_data[:AES.block_size]\n",
        "    cipher = AES.new(key.encode('utf-8')[:16], AES.MODE_CBC, iv)\n",
        "    plaintext = unpad(cipher.decrypt(raw_data[AES.block_size:]), AES.block_size)\n",
        "    return plaintext.decode('utf-8')\n",
        "\n",
        "# Test AES Encryption and Decryption\n",
        "sample_data = \"Grid status update: All systems operational.\"\n",
        "qkd_key = \"10100111010100111010101100101100\"  # Example key\n",
        "\n",
        "encrypted = aes_encrypt(sample_data, qkd_key)\n",
        "print(f\"AES Encrypted: {encrypted}\")\n",
        "decrypted = aes_decrypt(encrypted, qkd_key)\n",
        "print(f\"AES Decrypted: {decrypted}\")\n"
      ],
      "metadata": {
        "colab": {
          "base_uri": "https://localhost:8080/"
        },
        "id": "h1QvEI6lJSj9",
        "outputId": "c499f686-3458-4b39-ca75-50de8c4cbd97"
      },
      "execution_count": null,
      "outputs": [
        {
          "output_type": "stream",
          "name": "stdout",
          "text": [
            "AES Encrypted: Mboi+wDRH4rWFQbSf/Svz+j0q/qctRR2sMgcOJGGrjRFkI00agWprid8RBo9dZjsh8StBtM71ievoinA5RPpww==\n",
            "AES Decrypted: Grid status update: All systems operational.\n"
          ]
        }
      ]
    },
    {
      "cell_type": "code",
      "source": [
        "import random\n",
        "\n",
        "def bb84_with_noise(length=8, error_rate=0.1):\n",
        "    \"\"\"Simulate the BB84 protocol with noise in the quantum channel.\"\"\"\n",
        "    alice_bits = random_bitstring(length)\n",
        "    alice_bases = random_bitstring(length)\n",
        "    bob_bases = random_bitstring(length)\n",
        "    key = []\n",
        "    simulator = AerSimulator()\n",
        "\n",
        "    for i in range(length):\n",
        "        # Create quantum circuit for Alice\n",
        "        qc = QuantumCircuit(1, 1)\n",
        "        if alice_bases[i] == '0':  # Z-basis\n",
        "            if alice_bits[i] == '1':\n",
        "                qc.x(0)  # Prepare |1>\n",
        "        else:  # X-basis\n",
        "            if alice_bits[i] == '0':\n",
        "                qc.h(0)  # Prepare |+>\n",
        "            else:\n",
        "                qc.x(0)\n",
        "                qc.h(0)  # Prepare |->\n",
        "\n",
        "        # Bob measures\n",
        "        if bob_bases[i] == '1':  # Bob uses X-basis\n",
        "            qc.h(0)\n",
        "        qc.measure(0, 0)\n",
        "\n",
        "        # Simulate quantum circuit\n",
        "        compiled_circuit = transpile(qc, simulator)\n",
        "        result = simulator.run(compiled_circuit).result()\n",
        "        measured_bit = list(result.get_counts().keys())[0]\n",
        "\n",
        "        # Introduce noise\n",
        "        if random.random() < error_rate:\n",
        "            measured_bit = '1' if measured_bit == '0' else '0'\n",
        "\n",
        "        # Retain bits where Alice and Bob used the same basis\n",
        "        if alice_bases[i] == bob_bases[i]:\n",
        "            key.append(measured_bit)\n",
        "\n",
        "    return ''.join(key)\n",
        "\n",
        "# Example use\n",
        "print(\"Simulated Key with Noise:\", bb84_with_noise(length=16, error_rate=0.1))\n"
      ],
      "metadata": {
        "colab": {
          "base_uri": "https://localhost:8080/"
        },
        "id": "w12gfA56JhEk",
        "outputId": "302c7a04-6c9e-49fb-bb7a-25b185a183dd"
      },
      "execution_count": null,
      "outputs": [
        {
          "output_type": "stream",
          "name": "stdout",
          "text": [
            "Simulated Key with Noise: 1100001\n"
          ]
        }
      ]
    },
    {
      "cell_type": "code",
      "source": [
        "class CentralAuthority:\n",
        "    def __init__(self):\n",
        "        self.keys = {}\n",
        "\n",
        "    def distribute_key(self, node_id, length=16):\n",
        "        key = bb84_protocol(length=length)\n",
        "        self.keys[node_id] = key\n",
        "        print(f\"Distributed Key to Node {node_id}: {key}\")\n",
        "        return key\n",
        "\n",
        "class SmartGridNode:\n",
        "    def __init__(self, node_id, central_authority):\n",
        "        self.node_id = node_id\n",
        "        self.key = central_authority.distribute_key(node_id)\n",
        "\n",
        "    def send_message(self, message, recipient):\n",
        "        encrypted_message = encrypt_data(message, self.key)\n",
        "        print(f\"Node {self.node_id} -> Node {recipient.node_id}: {encrypted_message}\")\n",
        "        recipient.receive_message(encrypted_message, message, self.key)\n",
        "\n",
        "    def receive_message(self, encrypted_message, original_message, sender_key):\n",
        "        is_verified = decrypt_data(encrypted_message, original_message, sender_key)\n",
        "        print(f\"Node {self.node_id} received data: {'Verified' if is_verified else 'Tampered'}\")\n",
        "\n",
        "# Example\n",
        "central_authority = CentralAuthority()\n",
        "node_a = SmartGridNode(\"A\", central_authority)\n",
        "node_b = SmartGridNode(\"B\", central_authority)\n",
        "node_a.send_message(\"Energy load balanced at 70%\", node_b)\n"
      ],
      "metadata": {
        "colab": {
          "base_uri": "https://localhost:8080/"
        },
        "id": "zH1547q8SXAo",
        "outputId": "0bc3024c-aaaf-4771-ce14-54615a62e29f"
      },
      "execution_count": null,
      "outputs": [
        {
          "output_type": "stream",
          "name": "stdout",
          "text": [
            "Distributed Key to Node A: 00111000\n",
            "Distributed Key to Node B: 110100011\n",
            "Node A -> Node B: 63b007c8f6d3f6069eb5f981e4efa50d7f97b97bb47c6905a7ccc87c6e6a9e8c\n",
            "Node B received data: Verified\n"
          ]
        }
      ]
    },
    {
      "cell_type": "code",
      "source": [
        "# Symmetric encryption using AES\n",
        "def aes_encrypt(data, key):\n",
        "    cipher = AES.new(key.encode('utf-8')[:16], AES.MODE_CBC)\n",
        "    iv = cipher.iv\n",
        "    ciphertext = cipher.encrypt(pad(data.encode('utf-8'), AES.block_size))\n",
        "    return base64.b64encode(iv + ciphertext).decode('utf-8')\n",
        "\n",
        "def aes_decrypt(encrypted_data, key):\n",
        "    raw_data = base64.b64decode(encrypted_data)\n",
        "    iv = raw_data[:AES.block_size]\n",
        "    cipher = AES.new(key.encode('utf-8')[:16], AES.MODE_CBC, iv)\n",
        "    plaintext = unpad(cipher.decrypt(raw_data[AES.block_size:]), AES.block_size)\n",
        "    return plaintext.decode('utf-8')\n",
        "\n",
        "# Example usage\n",
        "qkd_key = bb84_protocol(length=32)  # QKD key\n",
        "sample_data = \"Grid status: Normal operations.\"\n",
        "encrypted = aes_encrypt(sample_data, qkd_key)\n",
        "print(f\"Encrypted Data: {encrypted}\")\n",
        "decrypted = aes_decrypt(encrypted, qkd_key)\n",
        "print(f\"Decrypted Data: {decrypted}\")\n"
      ],
      "metadata": {
        "colab": {
          "base_uri": "https://localhost:8080/"
        },
        "id": "SHbDE0x-SagG",
        "outputId": "8caeeaaa-fa48-485d-c5ab-0db398c3fc07"
      },
      "execution_count": null,
      "outputs": [
        {
          "output_type": "stream",
          "name": "stdout",
          "text": [
            "Encrypted Data: 7WYduorH3wWchhNo0mU5nl1lBKcUbA0d9fFQ2nFhV3Sm6ZweSYTO8EA1aduk0Rt7\n",
            "Decrypted Data: Grid status: Normal operations.\n"
          ]
        }
      ]
    },
    {
      "cell_type": "code",
      "source": [],
      "metadata": {
        "id": "z-SaZG-zPWFt"
      },
      "execution_count": null,
      "outputs": []
    },
    {
      "cell_type": "code",
      "source": [
        "def calculate_qber(alice_bases, bob_bases, alice_bits, bob_bits):\n",
        "    mismatches = sum(1 for i in range(len(alice_bases)) if alice_bases[i] == bob_bases[i] and alice_bits[i] != bob_bits[i])\n",
        "    total_checked = sum(1 for i in range(len(alice_bases)) if alice_bases[i] == bob_bases[i])\n",
        "    return mismatches / total_checked if total_checked > 0 else 0\n",
        "\n",
        "# Example\n",
        "alice_bases = random_bitstring(16)\n",
        "bob_bases = random_bitstring(16)\n",
        "alice_bits = random_bitstring(16)\n",
        "bob_bits = random_bitstring(16)  # Simulate Bob's received bits\n",
        "qber = calculate_qber(alice_bases, bob_bases, alice_bits, bob_bits)\n",
        "print(f\"Quantum Bit Error Rate (QBER): {qber}\")\n",
        "if qber > 0.1:\n",
        "    print(\"Eavesdropping detected! Terminating session.\")\n"
      ],
      "metadata": {
        "colab": {
          "base_uri": "https://localhost:8080/"
        },
        "id": "mmh9WNBBSfD9",
        "outputId": "4207f215-10ca-4e6d-ca99-b83483968901"
      },
      "execution_count": null,
      "outputs": [
        {
          "output_type": "stream",
          "name": "stdout",
          "text": [
            "Quantum Bit Error Rate (QBER): 0.42857142857142855\n",
            "Eavesdropping detected! Terminating session.\n"
          ]
        }
      ]
    },
    {
      "cell_type": "code",
      "source": [
        "import matplotlib.pyplot as plt\n",
        "\n",
        "# Example data for visualization\n",
        "key_lengths = [16, 32, 64, 128]\n",
        "latencies = [0.01, 0.02, 0.05, 0.1]\n",
        "qber_rates = [0.05, 0.08, 0.12, 0.2]\n",
        "\n",
        "plt.figure()\n",
        "plt.plot(key_lengths, latencies, marker='o')\n",
        "plt.title(\"Key Length vs Latency\")\n",
        "plt.xlabel(\"Key Length\")\n",
        "plt.ylabel(\"Latency (s)\")\n",
        "plt.grid()\n",
        "plt.show()\n",
        "\n",
        "plt.figure()\n",
        "plt.plot(key_lengths, qber_rates, marker='o', color='red')\n",
        "plt.title(\"Key Length vs QBER\")\n",
        "plt.xlabel(\"Key Length\")\n",
        "plt.ylabel(\"QBER\")\n",
        "plt.grid()\n",
        "plt.show()\n"
      ],
      "metadata": {
        "id": "N6d7JHcBSijn",
        "outputId": "e0c61d07-f6ec-4557-9361-1c3d7d780f3e",
        "colab": {
          "base_uri": "https://localhost:8080/",
          "height": 927
        }
      },
      "execution_count": null,
      "outputs": [
        {
          "output_type": "display_data",
          "data": {
            "text/plain": [
              "<Figure size 640x480 with 1 Axes>"
            ],
            "image/png": "[encoded data removed]"
          },
          "metadata": {}
        },
        {
          "output_type": "display_data",
          "data": {
            "text/plain": [
              "<Figure size 640x480 with 1 Axes>"
            ],
            "image/png": "[encoded data removed]"
          },
          "metadata": {}
        }
      ]
    },
    {
      "cell_type": "code",
      "source": [
        "import numpy as np\n",
        "from qiskit import QuantumCircuit, transpile\n",
        "from qiskit_aer import AerSimulator\n",
        "from cryptography.hazmat.primitives import hashes\n",
        "from cryptography.hazmat.backends import default_backend\n",
        "from Crypto.Cipher import AES\n",
        "from Crypto.Util.Padding import pad, unpad\n",
        "import base64\n",
        "import random\n",
        "\n",
        "# Function to generate random bitstrings\n",
        "def random_bitstring(length):\n",
        "    return np.random.choice(['0', '1'], size=length)\n",
        "\n",
        "# BB84 Protocol with Error Checking\n",
        "def bb84_protocol_with_error_checking(length=8, error_rate=0.1):\n",
        "    alice_bits = random_bitstring(length)\n",
        "    alice_bases = random_bitstring(length)\n",
        "    bob_bases = random_bitstring(length)\n",
        "    key = []\n",
        "    simulator = AerSimulator()\n",
        "    errors = 0\n",
        "\n",
        "    for i in range(length):\n",
        "        qc = QuantumCircuit(1, 1)\n",
        "        if alice_bases[i] == '0':  # Z-basis\n",
        "            if alice_bits[i] == '1':\n",
        "                qc.x(0)\n",
        "        else:  # X-basis\n",
        "            qc.h(0) if alice_bits[i] == '0' else qc.x(0); qc.h(0)\n",
        "\n",
        "        if bob_bases[i] == '1':\n",
        "            qc.h(0)\n",
        "        qc.measure(0, 0)\n",
        "\n",
        "        compiled_circuit = transpile(qc, simulator)\n",
        "        result = simulator.run(compiled_circuit).result()\n",
        "        measured_bit = list(result.get_counts().keys())[0]\n",
        "\n",
        "        # Introduce noise\n",
        "        if random.random() < error_rate:\n",
        "            measured_bit = '1' if measured_bit == '0' else '0'\n",
        "\n",
        "        if alice_bases[i] == bob_bases[i]:\n",
        "            key.append(measured_bit)\n",
        "        else:\n",
        "            errors += 1\n",
        "\n",
        "    qber = errors / length\n",
        "    if qber > 0.1:\n",
        "        print(\"High QBER! Possible eavesdropping detected.\")\n",
        "    return ''.join(key)\n",
        "\n",
        "# AES Encryption using QKD Key\n",
        "def aes_encrypt(data, key):\n",
        "    cipher = AES.new(key.encode('utf-8')[:16], AES.MODE_CBC)\n",
        "    iv = cipher.iv\n",
        "    ciphertext = cipher.encrypt(pad(data.encode('utf-8'), AES.block_size))\n",
        "    return base64.b64encode(iv + ciphertext).decode('utf-8')\n",
        "\n",
        "def aes_decrypt(encrypted_data, key):\n",
        "    raw_data = base64.b64decode(encrypted_data)\n",
        "    iv = raw_data[:AES.block_size]\n",
        "    cipher = AES.new(key.encode('utf-8')[:16], AES.MODE_CBC, iv)\n",
        "    plaintext = unpad(cipher.decrypt(raw_data[AES.block_size:]), AES.block_size)\n",
        "    return plaintext.decode('utf-8')\n",
        "\n",
        "# Main Simulation for Smart Grid\n",
        "def quantum_cryptography_smart_grid():\n",
        "    print(\"Starting QKD for Smart Grid...\")\n",
        "    qkd_key = bb84_protocol_with_error_checking(length=32)\n",
        "    print(f\"QKD Key: {qkd_key}\")\n",
        "\n",
        "    sample_data = \"Smart Grid Status: Operational\"\n",
        "    print(f\"Original Message: {sample_data}\")\n",
        "    encrypted = aes_encrypt(sample_data, qkd_key)\n",
        "    print(f\"Encrypted Data: {encrypted}\")\n",
        "\n",
        "    decrypted = aes_decrypt(encrypted, qkd_key)\n",
        "    print(f\"Decrypted Data: {decrypted}\")\n",
        "\n",
        "quantum_cryptography_smart_grid()\n"
      ],
      "metadata": {
        "colab": {
          "base_uri": "https://localhost:8080/"
        },
        "id": "drGTltouPYAp",
        "outputId": "59e6be75-8ea1-4d4c-85ff-a5e7f7cef4af"
      },
      "execution_count": null,
      "outputs": [
        {
          "output_type": "stream",
          "name": "stdout",
          "text": [
            "Starting QKD for Smart Grid...\n",
            "High QBER! Possible eavesdropping detected.\n",
            "QKD Key: 01001011110011100\n",
            "Original Message: Smart Grid Status: Operational\n",
            "Encrypted Data: V6TmfIQvQZoZhfzuv484RkZCloGldrFMon3h3yelJ0XMBTszaR8W95I84vVu2n4n\n",
            "Decrypted Data: Smart Grid Status: Operational\n"
          ]
        }
      ]
    },
    {
      "cell_type": "code",
      "source": [
        "import numpy as np\n",
        "from qiskit import QuantumCircuit, transpile\n",
        "from qiskit_aer import AerSimulator\n",
        "from cryptography.hazmat.primitives import hashes\n",
        "from cryptography.hazmat.backends import default_backend\n",
        "from Crypto.Cipher import AES\n",
        "from Crypto.Util.Padding import pad, unpad\n",
        "import base64\n",
        "import random\n",
        "import matplotlib.pyplot as plt\n",
        "\n",
        "# Function to generate random bitstrings\n",
        "def random_bitstring(length):\n",
        "    return np.random.choice(['0', '1'], size=length)\n",
        "\n",
        "# BB84 Protocol with Error Checking\n",
        "def bb84_protocol_with_error_checking(length=8, error_rate=0.1):\n",
        "    alice_bits = random_bitstring(length)\n",
        "    alice_bases = random_bitstring(length)\n",
        "    bob_bases = random_bitstring(length)\n",
        "    key = []\n",
        "    simulator = AerSimulator()\n",
        "    errors = 0\n",
        "\n",
        "    for i in range(length):\n",
        "        qc = QuantumCircuit(1, 1)\n",
        "        if alice_bases[i] == '0':  # Z-basis\n",
        "            if alice_bits[i] == '1':\n",
        "                qc.x(0)\n",
        "        else:  # X-basis\n",
        "            qc.h(0) if alice_bits[i] == '0' else qc.x(0); qc.h(0)\n",
        "\n",
        "        if bob_bases[i] == '1':\n",
        "            qc.h(0)\n",
        "        qc.measure(0, 0)\n",
        "\n",
        "        compiled_circuit = transpile(qc, simulator)\n",
        "        result = simulator.run(compiled_circuit).result()\n",
        "        measured_bit = list(result.get_counts().keys())[0]\n",
        "\n",
        "        # Introduce noise\n",
        "        if random.random() < error_rate:\n",
        "            measured_bit = '1' if measured_bit == '0' else '0'\n",
        "\n",
        "        if alice_bases[i] == bob_bases[i]:\n",
        "            key.append(measured_bit)\n",
        "        else:\n",
        "            errors += 1\n",
        "\n",
        "    qber = errors / length\n",
        "    if qber > 0.1:\n",
        "        print(\"High QBER! Possible eavesdropping detected.\")\n",
        "    return ''.join(key)\n",
        "\n",
        "# AES Encryption using QKD Key\n",
        "def aes_encrypt(data, key):\n",
        "    cipher = AES.new(key.encode('utf-8')[:16], AES.MODE_CBC)\n",
        "    iv = cipher.iv\n",
        "    ciphertext = cipher.encrypt(pad(data.encode('utf-8'), AES.block_size))\n",
        "    return base64.b64encode(iv + ciphertext).decode('utf-8')\n",
        "\n",
        "def aes_decrypt(encrypted_data, key):\n",
        "    raw_data = base64.b64decode(encrypted_data)\n",
        "    iv = raw_data[:AES.block_size]\n",
        "    cipher = AES.new(key.encode('utf-8')[:16], AES.MODE_CBC, iv)\n",
        "    plaintext = unpad(cipher.decrypt(raw_data[AES.block_size:]), AES.block_size)\n",
        "    return plaintext.decode('utf-8')\n",
        "\n",
        "# Calculate Quantum Bit Error Rate (QBER)\n",
        "def calculate_qber(alice_bases, bob_bases, alice_bits, bob_bits):\n",
        "    mismatches = sum(1 for i in range(len(alice_bases)) if alice_bases[i] == bob_bases[i] and alice_bits[i] != bob_bits[i])\n",
        "    total_checked = sum(1 for i in range(len(alice_bases)) if alice_bases[i] == bob_bases[i])\n",
        "    return mismatches / total_checked if total_checked > 0 else 0\n",
        "\n",
        "def pad_key(key, required_length=16):\n",
        "    \"\"\"\n",
        "    Pad the key to the required length using a simple repeat padding scheme.\n",
        "    \"\"\"\n",
        "    while len(key) < required_length:\n",
        "        key += key[:required_length - len(key)]\n",
        "    return key[:required_length]\n",
        "\n",
        "# Central Authority for Key Distribution\n",
        "class CentralAuthority:\n",
        "    def __init__(self):\n",
        "        self.keys = {}\n",
        "\n",
        "    def distribute_key(self, node_id, length=32):  # Ensure sufficient QKD key length\n",
        "        key = bb84_protocol_with_error_checking(length=length)\n",
        "        padded_key = pad_key(key)  # Pad the key to match AES key length\n",
        "        self.keys[node_id] = padded_key\n",
        "        print(f\"Distributed Key to Node {node_id}: {padded_key}\")\n",
        "        return padded_key\n",
        "\n",
        "# Smart Grid Node\n",
        "class SmartGridNode:\n",
        "    def __init__(self, node_id, central_authority):\n",
        "        self.node_id = node_id\n",
        "        self.key = central_authority.distribute_key(node_id)\n",
        "\n",
        "    def send_message(self, message, recipient):\n",
        "        encrypted_message = aes_encrypt(message, self.key)\n",
        "        print(f\"Node {self.node_id} -> Node {recipient.node_id}: {encrypted_message}\")\n",
        "        recipient.receive_message(encrypted_message, message, self.key)\n",
        "\n",
        "    def receive_message(self, encrypted_message, original_message, sender_key):\n",
        "        is_verified = aes_decrypt(encrypted_message, sender_key) == original_message\n",
        "        print(f\"Node {self.node_id} received data: {'Verified' if is_verified else 'Tampered'}\")\n",
        "\n",
        "# Main Simulation for Smart Grid\n",
        "def quantum_cryptography_smart_grid():\n",
        "    print(\"Starting QKD for Smart Grid...\")\n",
        "    raw_qkd_key = bb84_protocol_with_error_checking(length=32)\n",
        "    qkd_key = pad_key(raw_qkd_key)  # Ensure key length is valid for AES\n",
        "    print(f\"QKD Key: {qkd_key}\")\n",
        "\n",
        "    sample_data = \"Smart Grid Status: Operational\"\n",
        "    print(f\"Original Message: {sample_data}\")\n",
        "    encrypted = aes_encrypt(sample_data, qkd_key)\n",
        "    print(f\"Encrypted Data: {encrypted}\")\n",
        "\n",
        "    decrypted = aes_decrypt(encrypted, qkd_key)\n",
        "    print(f\"Decrypted Data: {decrypted}\")\n",
        "\n",
        "    # Example Nodes\n",
        "    central_authority = CentralAuthority()\n",
        "    node_a = SmartGridNode(\"A\", central_authority)\n",
        "    node_b = SmartGridNode(\"B\", central_authority)\n",
        "    node_a.send_message(\"Energy load balanced at 70%\", node_b)\n",
        "\n",
        "# Run the updated simulation\n",
        "quantum_cryptography_smart_grid()\n"
      ],
      "metadata": {
        "id": "0haTIXZWPZnu",
        "colab": {
          "base_uri": "https://localhost:8080/"
        },
        "outputId": "bee61bfc-dd32-49be-b90e-80c4a0d21817"
      },
      "execution_count": null,
      "outputs": [
        {
          "output_type": "stream",
          "name": "stdout",
          "text": [
            "Starting QKD for Smart Grid...\n",
            "High QBER! Possible eavesdropping detected.\n",
            "QKD Key: 0011110011001011\n",
            "Original Message: Smart Grid Status: Operational\n",
            "Encrypted Data: jVxp3217WkPC6vvxDJoOfdoJQwji3EPb0+vhMYIkt1gLEMmgEGcmLfZBnef4W3sG\n",
            "Decrypted Data: Smart Grid Status: Operational\n",
            "High QBER! Possible eavesdropping detected.\n",
            "Distributed Key to Node A: 1011100110001101\n",
            "High QBER! Possible eavesdropping detected.\n",
            "Distributed Key to Node B: 1111100000111111\n",
            "Node A -> Node B: SGk9+Z7BSYOE7TTjtBWt8BBPL0pjO4cK7T5QcDisPuIDmeVd0hDYppVFu0By1fnH\n",
            "Node B received data: Verified\n"
          ]
        }
      ]
    },
    {
      "cell_type": "code",
      "source": [
        "import time\n",
        "\n",
        "# Function to calculate QBER and latency for each key length\n",
        "def simulate_key_length(key_lengths, error_rate=0.1):\n",
        "    latencies = []\n",
        "    qber_rates = []\n",
        "\n",
        "    for length in key_lengths:\n",
        "        # Measure latency for QKD key generation\n",
        "        start_time = time.time()\n",
        "        alice_bits = random_bitstring(length)\n",
        "        alice_bases = random_bitstring(length)\n",
        "        bob_bases = random_bitstring(length)\n",
        "        bob_bits = []\n",
        "\n",
        "        simulator = AerSimulator()\n",
        "        errors = 0\n",
        "        for i in range(length):\n",
        "            qc = QuantumCircuit(1, 1)\n",
        "            if alice_bases[i] == '0':  # Z-basis\n",
        "                if alice_bits[i] == '1':\n",
        "                    qc.x(0)\n",
        "            else:  # X-basis\n",
        "                qc.h(0) if alice_bits[i] == '0' else qc.x(0); qc.h(0)\n",
        "\n",
        "            if bob_bases[i] == '1':\n",
        "                qc.h(0)\n",
        "            qc.measure(0, 0)\n",
        "\n",
        "            compiled_circuit = transpile(qc, simulator)\n",
        "            result = simulator.run(compiled_circuit).result()\n",
        "            measured_bit = list(result.get_counts().keys())[0]\n",
        "\n",
        "            # Introduce noise\n",
        "            if random.random() < error_rate:\n",
        "                measured_bit = '1' if measured_bit == '0' else '0'\n",
        "\n",
        "            if alice_bases[i] == bob_bases[i]:\n",
        "                bob_bits.append(measured_bit)\n",
        "                if measured_bit != alice_bits[i]:\n",
        "                    errors += 1\n",
        "\n",
        "        end_time = time.time()\n",
        "\n",
        "        # Calculate QBER\n",
        "        qber = errors / length if length > 0 else 0\n",
        "\n",
        "        # Record latency and QBER\n",
        "        latencies.append(end_time - start_time)\n",
        "        qber_rates.append(qber)\n",
        "\n",
        "    return latencies, qber_rates\n",
        "\n",
        "# Visualization with real values\n",
        "def plot_real_metrics():\n",
        "    key_lengths = [16, 32, 64, 128]\n",
        "    latencies, qber_rates = simulate_key_length(key_lengths, error_rate=0.1)\n",
        "\n",
        "    # Plot Latency vs Key Length\n",
        "    plt.figure()\n",
        "    plt.plot(key_lengths, latencies, marker='o')\n",
        "    plt.title(\"Key Length vs Latency\")\n",
        "    plt.xlabel(\"Key Length\")\n",
        "    plt.ylabel(\"Latency (s)\")\n",
        "    plt.grid()\n",
        "    plt.show()\n",
        "\n",
        "    # Plot QBER vs Key Length\n",
        "    plt.figure()\n",
        "    plt.plot(key_lengths, qber_rates, marker='o', color='red')\n",
        "    plt.title(\"Key Length vs QBER\")\n",
        "    plt.xlabel(\"Key Length\")\n",
        "    plt.ylabel(\"QBER\")\n",
        "    plt.grid()\n",
        "    plt.show()\n",
        "\n",
        "# Run the updated simulation and plot\n",
        "plot_real_metrics()\n"
      ],
      "metadata": {
        "colab": {
          "base_uri": "https://localhost:8080/",
          "height": 927
        },
        "id": "Vd6NabfLXsXI",
        "outputId": "1fbbb6fa-d86a-41a5-a849-78ac75108419"
      },
      "execution_count": null,
      "outputs": [
        {
          "output_type": "display_data",
          "data": {
            "text/plain": [
              "<Figure size 640x480 with 1 Axes>"
            ],
            "image/png": "[encoded data removed]"
          },
          "metadata": {}
        },
        {
          "output_type": "display_data",
          "data": {
            "text/plain": [
              "<Figure size 640x480 with 1 Axes>"
            ],
            "image/png": "[encoded data removed]"
          },
          "metadata": {}
        }
      ]
    },
    {
      "cell_type": "code",
      "source": [
        "import numpy as np\n",
        "from qiskit import QuantumCircuit, transpile\n",
        "from qiskit_aer import AerSimulator\n",
        "from cryptography.hazmat.primitives import hashes\n",
        "from cryptography.hazmat.backends import default_backend\n",
        "from Crypto.Cipher import AES\n",
        "from Crypto.Util.Padding import pad, unpad\n",
        "import base64\n",
        "import random\n",
        "import matplotlib.pyplot as plt\n",
        "import time\n",
        "\n",
        "# Function to generate random bitstrings\n",
        "def random_bitstring(length):\n",
        "    return np.random.choice(['0', '1'], size=length)\n",
        "\n",
        "# BB84 Protocol with Error Checking\n",
        "def bb84_protocol_with_error_checking(length=8, error_rate=0.1):\n",
        "    alice_bits = random_bitstring(length)\n",
        "    alice_bases = random_bitstring(length)\n",
        "    bob_bases = random_bitstring(length)\n",
        "    key = []\n",
        "    simulator = AerSimulator()\n",
        "    errors = 0\n",
        "\n",
        "    start_time = time.time()\n",
        "    for i in range(length):\n",
        "        qc = QuantumCircuit(1, 1)\n",
        "        if alice_bases[i] == '0':  # Z-basis\n",
        "            if alice_bits[i] == '1':\n",
        "                qc.x(0)\n",
        "        else:  # X-basis\n",
        "            qc.h(0) if alice_bits[i] == '0'      else qc.x(0); qc.h(0)\n",
        "\n",
        "        if bob_bases[i] == '1':\n",
        "            qc.h(0)\n",
        "        qc.measure(0, 0)\n",
        "\n",
        "        compiled_circuit = transpile(qc, simulator)\n",
        "        result = simulator.run(compiled_circuit).result()\n",
        "        measured_bit = list(result.get_counts().keys())[0]\n",
        "\n",
        "        # Introduce noise\n",
        "        if random.random() < error_rate:\n",
        "            measured_bit = '1' if measured_bit == '0' else '0'\n",
        "\n",
        "        if alice_bases[i] == bob_bases[i]:\n",
        "            key.append(measured_bit)\n",
        "            if measured_bit != alice_bits[i]:\n",
        "                errors += 1\n",
        "    end_time = time.time()\n",
        "\n",
        "    qber = errors / length if length > 0 else 0\n",
        "    latency = end_time - start_time\n",
        "\n",
        "    if qber > 0.1:\n",
        "        print(\"High QBER! Possible eavesdropping detected.\")\n",
        "    return ''.join(key), qber, latency\n",
        "\n",
        "# AES Encryption using QKD Key\n",
        "def aes_encrypt(data, key):\n",
        "    cipher = AES.new(key.encode('utf-8')[:16], AES.MODE_CBC)\n",
        "    iv = cipher.iv\n",
        "    ciphertext = cipher.encrypt(pad(data.encode('utf-8'), AES.block_size))\n",
        "    return base64.b64encode(iv + ciphertext).decode('utf-8')\n",
        "\n",
        "def aes_decrypt(encrypted_data, key):\n",
        "    raw_data = base64.b64decode(encrypted_data)\n",
        "    iv = raw_data[:AES.block_size]\n",
        "    cipher = AES.new(key.encode('utf-8')[:16], AES.MODE_CBC, iv)\n",
        "    plaintext = unpad(cipher.decrypt(raw_data[AES.block_size:]), AES.block_size)\n",
        "    return plaintext.decode('utf-8')\n",
        "\n",
        "# Key Padding\n",
        "def pad_key(key, required_length=16):\n",
        "    while len(key) < required_length:\n",
        "        key += key[:required_length - len(key)]\n",
        "    return key[:required_length]\n",
        "\n",
        "# Central Authority for Key Distribution\n",
        "class CentralAuthority:\n",
        "    def __init__(self):\n",
        "        self.keys = {}\n",
        "\n",
        "    def distribute_key(self, node_id, length=32):  # Ensure sufficient QKD key length\n",
        "        key, _, _ = bb84_protocol_with_error_checking(length=length)\n",
        "        padded_key = pad_key(key)  # Pad the key to match AES key length\n",
        "        self.keys[node_id] = padded_key\n",
        "        print(f\"Distributed Key to Node {node_id}: {padded_key}\")\n",
        "        return padded_key\n",
        "\n",
        "# Smart Grid Node\n",
        "class SmartGridNode:\n",
        "    def __init__(self, node_id, central_authority):\n",
        "        self.node_id = node_id\n",
        "        self.key = central_authority.distribute_key(node_id)\n",
        "\n",
        "    def send_message(self, message, recipient):\n",
        "        encrypted_message = aes_encrypt(message, self.key)\n",
        "        print(f\"Node {self.node_id} -> Node {recipient.node_id}: {encrypted_message}\")\n",
        "        recipient.receive_message(encrypted_message, message, self.key)\n",
        "\n",
        "    def receive_message(self, encrypted_message, original_message, sender_key):\n",
        "        is_verified = aes_decrypt(encrypted_message, sender_key) == original_message\n",
        "        print(f\"Node {self.node_id} received data: {'Verified' if is_verified else 'Tampered'}\")\n",
        "\n",
        "# Simulate Key Length Performance\n",
        "def simulate_key_length(key_lengths, error_rate=0.1):\n",
        "    latencies = []\n",
        "    qber_rates = []\n",
        "\n",
        "    for length in key_lengths:\n",
        "        _, qber, latency = bb84_protocol_with_error_checking(length=length, error_rate=error_rate)\n",
        "        qber_rates.append(qber)\n",
        "        latencies.append(latency)\n",
        "\n",
        "    return latencies, qber_rates\n",
        "\n",
        "# Visualization\n",
        "def plot_metrics(key_lengths, latencies, qber_rates):\n",
        "    # Latency vs Key Length\n",
        "    plt.figure()\n",
        "    plt.plot(key_lengths, latencies, marker='o')\n",
        "    plt.title(\"Key Length vs Latency\")\n",
        "    plt.xlabel(\"Key Length\")\n",
        "    plt.ylabel(\"Latency (s)\")\n",
        "    plt.grid()\n",
        "    plt.show()\n",
        "\n",
        "    # QBER vs Key Length\n",
        "    plt.figure()\n",
        "    plt.plot(key_lengths, qber_rates, marker='o', color='red')\n",
        "    plt.title(\"Key Length vs QBER\")\n",
        "    plt.xlabel(\"Key Length\")\n",
        "    plt.ylabel(\"QBER\")\n",
        "    plt.grid()\n",
        "    plt.show()\n",
        "\n",
        "# Main Simulation for Smart Grid\n",
        "def quantum_cryptography_smart_grid():\n",
        "    print(\"Starting QKD for Smart Grid...\")\n",
        "    raw_qkd_key, _, _ = bb84_protocol_with_error_checking(length=32)\n",
        "    qkd_key = pad_key(raw_qkd_key)  # Ensure key length is valid for AES\n",
        "    print(f\"QKD Key: {qkd_key}\")\n",
        "\n",
        "    sample_data = \"Smart Grid Status: Operational\"\n",
        "    print(f\"Original Message: {sample_data}\")\n",
        "    encrypted = aes_encrypt(sample_data, qkd_key)\n",
        "    print(f\"Encrypted Data: {encrypted}\")\n",
        "\n",
        "    decrypted = aes_decrypt(encrypted, qkd_key)\n",
        "    print(f\"Decrypted Data: {decrypted}\")\n",
        "\n",
        "    # Example Nodes\n",
        "    central_authority = CentralAuthority()\n",
        "    node_a = SmartGridNode(\"A\", central_authority)\n",
        "    node_b = SmartGridNode(\"B\", central_authority)\n",
        "    node_a.send_message(\"Energy load balanced at 70%\", node_b)\n",
        "\n",
        "    # Simulate and Plot Metrics\n",
        "    key_lengths = [16, 32, 64, 128]\n",
        "    latencies, qber_rates = simulate_key_length(key_lengths)\n",
        "    plot_metrics(key_lengths, latencies, qber_rates)\n",
        "\n",
        "# Run the complete simulation\n",
        "quantum_cryptography_smart_grid()\n"
      ],
      "metadata": {
        "colab": {
          "base_uri": "https://localhost:8080/",
          "height": 1000
        },
        "id": "5vdnrW2DZ_Ly",
        "outputId": "968bd389-79fe-40d8-f617-788d2a520eae"
      },
      "execution_count": null,
      "outputs": [
        {
          "output_type": "stream",
          "name": "stdout",
          "text": [
            "Starting QKD for Smart Grid...\n",
            "High QBER! Possible eavesdropping detected.\n",
            "QKD Key: 1110110110011111\n",
            "Original Message: Smart Grid Status: Operational\n",
            "Encrypted Data: dSGJvX1YZDB0TrhJbGOA9V0hbLuFxdQBkm1OVjhHUQHHFZnfZZWKiGYVA7czK22e\n",
            "Decrypted Data: Smart Grid Status: Operational\n",
            "High QBER! Possible eavesdropping detected.\n",
            "Distributed Key to Node A: 1111101011111101\n",
            "Distributed Key to Node B: 1111011001100101\n",
            "Node A -> Node B: WxkVPjixMmkn4mRUkLMwYI//G34758vQwteOvyMRDV3aBI+SSfk6SacEdXZgainn\n",
            "Node B received data: Verified\n",
            "High QBER! Possible eavesdropping detected.\n",
            "High QBER! Possible eavesdropping detected.\n",
            "High QBER! Possible eavesdropping detected.\n",
            "High QBER! Possible eavesdropping detected.\n"
          ]
        },
        {
          "output_type": "display_data",
          "data": {
            "text/plain": [
              "<Figure size 640x480 with 1 Axes>"
            ],
            "image/png": "[encoded data removed]"
          },
          "metadata": {}
        },
        {
          "output_type": "display_data",
          "data": {
            "text/plain": [
              "<Figure size 640x480 with 1 Axes>"
            ],
            "image/png": "[encoded data removed]"
          },
          "metadata": {}
        }
      ]
    },
    {
      "cell_type": "code",
      "source": [],
      "metadata": {
        "id": "C3J2Tez5cKbN"
      },
      "execution_count": null,
      "outputs": []
    }
  ]
}